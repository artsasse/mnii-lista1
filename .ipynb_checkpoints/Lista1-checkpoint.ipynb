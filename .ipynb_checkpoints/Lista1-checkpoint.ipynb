{
 "cells": [
  {
   "cell_type": "markdown",
   "id": "e80f1922-523d-46cb-a4ef-da35e37c8032",
   "metadata": {},
   "source": [
    "# Métodos Numéricos II - Lista 1 #\n",
    "## Arthur Mendonça Sasse - DRE 117206692 ##"
   ]
  },
  {
   "cell_type": "code",
   "execution_count": 58,
   "id": "73941e09-3fda-4ff0-9d15-1b06b9c59a51",
   "metadata": {},
   "outputs": [],
   "source": [
    "import Pkg; \n",
    "Pkg.add(\"Images\")\n",
    "\n",
    "using LinearAlgebra\n",
    "using Images"
   ]
  },
  {
   "cell_type": "markdown",
   "id": "8c0959a1-bf0d-473d-9bfa-a1e736ea3a80",
   "metadata": {},
   "source": [
    "## 1) ##"
   ]
  },
  {
   "cell_type": "markdown",
   "id": "5eccf43d-e0cc-4639-ae2d-2c11710c9978",
   "metadata": {},
   "source": [
    "#### (a) ####"
   ]
  },
  {
   "cell_type": "code",
   "execution_count": 7,
   "id": "a922df64-9a18-4805-acf6-d8fedb36e01d",
   "metadata": {},
   "outputs": [
    {
     "data": {
      "text/plain": [
       "4×5 Matrix{Int64}:\n",
       " 2  10  20   -2  0\n",
       " 3  15  30  -30  0\n",
       " 5  25  50   -5  0\n",
       " 7  35  70   -7  0"
      ]
     },
     "execution_count": 7,
     "metadata": {},
     "output_type": "execute_result"
    }
   ],
   "source": [
    "B = [2   0;\n",
    "     3 -27;\n",
    "     5   0;\n",
    "     7   0]\n",
    "\n",
    "C = [1 5 10 -1 0;\n",
    "     0 0  0  1 0]\n",
    "\n",
    "B * C"
   ]
  },
  {
   "cell_type": "markdown",
   "id": "92f3aca4-134d-4946-98ee-3e02e87cbb15",
   "metadata": {},
   "source": [
    "#### (b) ####"
   ]
  },
  {
   "cell_type": "code",
   "execution_count": 8,
   "id": "155c27f9-a29c-4e94-90b4-93bf7cebdb68",
   "metadata": {},
   "outputs": [
    {
     "data": {
      "text/plain": [
       "3×5 Matrix{Int64}:\n",
       " 1  3  5  5000  31\n",
       " 4  5  9  9000  54\n",
       " 3  5  8  8000  53"
      ]
     },
     "execution_count": 8,
     "metadata": {},
     "output_type": "execute_result"
    }
   ],
   "source": [
    "B = [1 3 1;\n",
    "     4 5 0;\n",
    "     3 5 0]\n",
    "\n",
    "C = [1 0 1 1000  1;\n",
    "     0 1 1 1000 10;\n",
    "     0 0 1 1000  0]\n",
    "\n",
    "B * C"
   ]
  },
  {
   "cell_type": "markdown",
   "id": "22386e3b-7766-4339-a214-8ae77b3ccecb",
   "metadata": {},
   "source": [
    "## 2) ##"
   ]
  },
  {
   "cell_type": "code",
   "execution_count": 9,
   "id": "baf7d756-5997-4d29-b1b6-6de63807ac2a",
   "metadata": {},
   "outputs": [
    {
     "data": {
      "text/plain": [
       "4×5 Matrix{Int64}:\n",
       "  2   10   20   200  -10\n",
       " -3  -15  -30  -300   15\n",
       "  5   25   50   500  -25\n",
       "  7   35   70   700  -35"
      ]
     },
     "execution_count": 9,
     "metadata": {},
     "output_type": "execute_result"
    }
   ],
   "source": [
    "User_x_Comedy = [ 2;\n",
    "               -3;\n",
    "                5;\n",
    "                7]\n",
    "\n",
    "Comedy_x_Movie = [1 5 10 100 -5]\n",
    "\n",
    "User_x_Comedy * Comedy_x_Movie"
   ]
  },
  {
   "cell_type": "markdown",
   "id": "dfb5b417-18f9-47f6-9d2c-ce91798c74f8",
   "metadata": {},
   "source": [
    "## 3) ##"
   ]
  },
  {
   "cell_type": "code",
   "execution_count": 11,
   "id": "138abd79-747f-4aff-931e-200c89a377c4",
   "metadata": {},
   "outputs": [
    {
     "data": {
      "text/plain": [
       "5×5 Matrix{Float64}:\n",
       " 0.82  0.18  0.5  0.1  0.26\n",
       " 0.74  0.26  0.5  0.2  0.32\n",
       " 0.34  0.66  0.5  0.7  0.62\n",
       " 0.58  0.42  0.5  0.4  0.44\n",
       " 0.1   0.9   0.5  1.0  0.8"
      ]
     },
     "execution_count": 11,
     "metadata": {},
     "output_type": "execute_result"
    }
   ],
   "source": [
    "# TODO: fazer com dataframes\n",
    "\n",
    "user_genre = [0.9 0.1;\n",
    "              0.8 0.2;\n",
    "              0.3 0.7;\n",
    "              0.6 0.4;\n",
    "                0   1]\n",
    "\n",
    "genre_movie = [0.9 0.1 0.5 0 0.2;\n",
    "               0.1 0.9 0.5 1 0.8]\n",
    "\n",
    "user_movie = user_genre * genre_movie"
   ]
  },
  {
   "cell_type": "code",
   "execution_count": 35,
   "id": "229653c9-fad5-470a-94b7-b187bd9ed022",
   "metadata": {},
   "outputs": [
    {
     "name": "stdout",
     "output_type": "stream",
     "text": [
      "Usuários mais próximos: [1, 2]\n",
      "Diferença euclidiana: 0.16248076809271922\n"
     ]
    }
   ],
   "source": [
    "# TODO: Ver se resultado bate com o de Larissa\n",
    "# DUVIDA: Existe um jeito melhor de fazer isso?\n",
    "\n",
    "m = size(user_movie)[1]\n",
    "difference = Inf\n",
    "nearest_users = []\n",
    "\n",
    "for i = 1:m\n",
    "    user1 = user_movie[i,:]\n",
    "    for j = i+1:m\n",
    "        user2 = user_movie[j,:]\n",
    "        new_diff = norm(user1 - user2)\n",
    "        if new_diff < difference\n",
    "            difference = new_diff\n",
    "            nearest_users = [i, j]\n",
    "        end\n",
    "    end\n",
    "end\n",
    "\n",
    "println(\"Usuários mais próximos: $(nearest_users)\")\n",
    "println(\"Diferença euclidiana: $(difference)\")"
   ]
  },
  {
   "cell_type": "markdown",
   "id": "c0f92580-4c96-435c-9c7d-ad9c63a41c24",
   "metadata": {},
   "source": [
    "## 4) ##"
   ]
  },
  {
   "cell_type": "code",
   "execution_count": 39,
   "id": "9553929b-08f8-4e8d-9712-c93a1f1a0b25",
   "metadata": {},
   "outputs": [
    {
     "name": "stdout",
     "output_type": "stream",
     "text": [
      "Dimensão do espaço vetorial: 3\n"
     ]
    }
   ],
   "source": [
    "A = [1 1 11 101 11 2 13 2;\n",
    "     1 2 12 102 21 3 10 2;\n",
    "     1 3 13 103 31 4  7 2;\n",
    "     1 4 14 104 41 5  4 3] \n",
    "rank(A)\n",
    "println(\"Dimensão do espaço vetorial: $(rank(A))\")"
   ]
  },
  {
   "cell_type": "code",
   "execution_count": 43,
   "id": "c1d8dc35-5fa9-493c-b50b-54b84e4016cc",
   "metadata": {},
   "outputs": [
    {
     "data": {
      "text/plain": [
       "4×8 Matrix{Int64}:\n",
       " 1  1  11  101  11  2  13  2\n",
       " 1  2  12  102  21  3  10  2\n",
       " 1  3  13  103  31  4   7  2\n",
       " 1  4  14  104  41  5   4  3"
      ]
     },
     "execution_count": 43,
     "metadata": {},
     "output_type": "execute_result"
    }
   ],
   "source": [
    "B1 = [1 1  2\n",
    "      1 2  2\n",
    "      1 3  2\n",
    "      1 4  3]\n",
    "\n",
    "C = [1 0 10 100  1 1 16 0;\n",
    "     0 1  1   1 10 1 -3 0;\n",
    "     0 0  0   0  0 0  0 1]\n",
    "\n",
    "B1 * C"
   ]
  },
  {
   "cell_type": "code",
   "execution_count": 44,
   "id": "212e0776-e283-4e03-aa90-50d525cc7d02",
   "metadata": {},
   "outputs": [
    {
     "data": {
      "text/plain": [
       "4×8 Matrix{Float64}:\n",
       " 1.0  1.0  11.0  101.0  11.0  2.0  13.0  2.0\n",
       " 1.0  2.0  12.0  102.0  21.0  3.0  10.0  2.0\n",
       " 1.0  3.0  13.0  103.0  31.0  4.0   7.0  2.0\n",
       " 1.0  4.0  14.0  104.0  41.0  5.0   4.0  3.0"
      ]
     },
     "execution_count": 44,
     "metadata": {},
     "output_type": "execute_result"
    }
   ],
   "source": [
    "B2 = [2 1  2\n",
    "      2 2  2\n",
    "      2 3  2\n",
    "      2 4  3]\n",
    "\n",
    "C = [0.5 0 5 50 0.5 0.5  8 0;\n",
    "       0 1 1  1  10   1 -3 0;\n",
    "       0 0 0  0   0   0  0 1]\n",
    "\n",
    "B2 * C"
   ]
  },
  {
   "cell_type": "markdown",
   "id": "df507773-e287-4ce5-b39e-c74172b67ea0",
   "metadata": {},
   "source": [
    "## 5) ##"
   ]
  },
  {
   "cell_type": "markdown",
   "id": "ad0e5985-e107-465d-946c-bcf86564e851",
   "metadata": {},
   "source": [
    "<center>\n",
    "    <figure>\n",
    "    <img src=\"Q5.jpeg\" width=500 align=center>\n",
    "    </figure>\n",
    "</center>"
   ]
  },
  {
   "cell_type": "markdown",
   "id": "a72b254d-b196-4eb7-b1c4-ccf90878185e",
   "metadata": {},
   "source": [
    "Consideramos que posto é o menor número de colunas de B ou linhas de C para reconstruir A por B * C.\n",
    "\n",
    "Quando transpomos A, podemos fazer o mesmo com B e C, resultando em Aᵀ = Cᵀ * Bᵀ.\n",
    "\n",
    "Nesse caso Cᵀ é uma matriz n x k e Bᵀ uma matriz k x m. O formato da matriz resultante mudou para n x m, o que condiz com a transposição. Mas o numero de colunas da primeira matriz ou linhas da segunda continua sendo o mesmo: k.\n",
    "\n",
    "Logo, k é o posto de A e Aᵀ.\n",
    "\n",
    "Dúvida: e se as colunas de B fossem LI, mas as linhas de C não? Isso seria possível? Por que não?"
   ]
  },
  {
   "cell_type": "markdown",
   "id": "4f2a5ef8-f618-4aa6-b379-a9494701b280",
   "metadata": {},
   "source": [
    "## 6) ##"
   ]
  },
  {
   "cell_type": "code",
   "execution_count": 52,
   "id": "78a6f08b-3a61-4fbe-aa67-b86f4c2767b1",
   "metadata": {},
   "outputs": [
    {
     "data": {
      "text/plain": [
       "2×6 Matrix{Int64}:\n",
       " 1  3  0  2   0  -4\n",
       " 0  1  1  3  -3   0"
      ]
     },
     "execution_count": 52,
     "metadata": {},
     "output_type": "execute_result"
    }
   ],
   "source": [
    "a1 = [1, 0]\n",
    "a2 = [3, 1]\n",
    "a3 = [0, 1]\n",
    "a4 = [2, 3]\n",
    "a5 = [0, -3]\n",
    "a6 = [-4, 0]\n",
    "\n",
    "A = [a1 a2 a3 a4 a5 a6]"
   ]
  },
  {
   "cell_type": "code",
   "execution_count": 53,
   "id": "8544c90b-410e-457d-9960-249968430c47",
   "metadata": {},
   "outputs": [
    {
     "data": {
      "text/plain": [
       "2×2 Matrix{Int64}:\n",
       " 3  2\n",
       " 1  3"
      ]
     },
     "execution_count": 53,
     "metadata": {},
     "output_type": "execute_result"
    }
   ],
   "source": [
    "B = [b1 b2]"
   ]
  },
  {
   "cell_type": "code",
   "execution_count": 56,
   "id": "745bac86-04f0-4798-9d02-ecba8716acb1",
   "metadata": {},
   "outputs": [
    {
     "data": {
      "text/plain": [
       "2×6 Matrix{Float64}:\n",
       "  0.428571  1.0  -0.285714  0.0   0.857143  -1.71429\n",
       " -0.142857  0.0   0.428571  1.0  -1.28571    0.571429"
      ]
     },
     "execution_count": 56,
     "metadata": {},
     "output_type": "execute_result"
    }
   ],
   "source": [
    "C = B \\ A"
   ]
  },
  {
   "cell_type": "markdown",
   "id": "7ed29715-9ed0-4511-84f7-88f6c21f15a9",
   "metadata": {},
   "source": [
    "## 7) ##\n",
    "\n",
    "#### (a) ####\n",
    "Significa que eles não possuem sintomas em comum."
   ]
  },
  {
   "cell_type": "markdown",
   "id": "2787a97b-d588-4967-8e1b-d9643a1f303d",
   "metadata": {},
   "source": [
    "#### (b) ####\n",
    "Significa que esses sintomas não aparecem juntos num mesmo paciente."
   ]
  },
  {
   "cell_type": "markdown",
   "id": "13fb4763-2cb6-4c97-8f0d-cf2eba1200f1",
   "metadata": {},
   "source": [
    "#### (c) ####\n",
    "Significa que eles possuem os mesmos sintomas."
   ]
  },
  {
   "cell_type": "markdown",
   "id": "68c9cf7d-c2c2-4f68-ba47-c662279a7ec0",
   "metadata": {},
   "source": [
    "#### (d) ####\n",
    "Significa que eles afetam as mesmas pessoas."
   ]
  },
  {
   "cell_type": "markdown",
   "id": "688e91e9-8884-495f-87f6-9c157f61149c",
   "metadata": {},
   "source": [
    "## 8) ##\n",
    "\n",
    "#### (a) ####\n",
    "\n",
    "Considerando 1 como branco e 0 como preto."
   ]
  },
  {
   "cell_type": "code",
   "execution_count": 62,
   "id": "09c44c32-7cca-4f25-94df-fcc37302ef24",
   "metadata": {},
   "outputs": [
    {
     "data": {
      "text/plain": [
       "5×5 Matrix{Float64}:\n",
       " 1.0  0.0  1.0  0.0  1.0\n",
       " 1.0  0.0  1.0  0.0  1.0\n",
       " 1.0  1.0  0.5  1.0  1.0\n",
       " 0.0  1.0  1.0  1.0  0.0\n",
       " 1.0  0.0  0.0  0.0  1.0"
      ]
     },
     "execution_count": 62,
     "metadata": {},
     "output_type": "execute_result"
    }
   ],
   "source": [
    "sorriso = [1 0   1 0 1;\n",
    "           1 0   1 0 1;\n",
    "           1 1 0.5 1 1;\n",
    "           0 1   1 1 0;\n",
    "           1 0   0 0 1]"
   ]
  },
  {
   "cell_type": "code",
   "execution_count": 63,
   "id": "3de0e0f2-871e-486d-ae51-acc9e6ae895f",
   "metadata": {},
   "outputs": [
    {
     "data": {
      "image/png": "[encoded data removed]",
      "text/plain": [
       "5×5 Array{Gray{Float64},2} with eltype Gray{Float64}:\n",
       " Gray{Float64}(1.0)  Gray{Float64}(0.0)  …  Gray{Float64}(1.0)\n",
       " Gray{Float64}(1.0)  Gray{Float64}(0.0)     Gray{Float64}(1.0)\n",
       " Gray{Float64}(1.0)  Gray{Float64}(1.0)     Gray{Float64}(1.0)\n",
       " Gray{Float64}(0.0)  Gray{Float64}(1.0)     Gray{Float64}(0.0)\n",
       " Gray{Float64}(1.0)  Gray{Float64}(0.0)     Gray{Float64}(1.0)"
      ]
     },
     "metadata": {},
     "output_type": "display_data"
    }
   ],
   "source": [
    "display(Gray.(sorriso))"
   ]
  },
  {
   "cell_type": "markdown",
   "id": "15cf6690-c2be-4840-8139-fb34ca18a09e",
   "metadata": {},
   "source": [
    "#### (b) ####"
   ]
  },
  {
   "cell_type": "code",
   "execution_count": null,
   "id": "539b3929-678c-4ff3-b2bd-ac2a355dea5d",
   "metadata": {},
   "outputs": [],
   "source": []
  }
 ],
 "metadata": {
  "kernelspec": {
   "display_name": "Julia 1.6.0",
   "language": "julia",
   "name": "julia-1.6"
  },
  "language_info": {
   "file_extension": ".jl",
   "mimetype": "application/julia",
   "name": "julia",
   "version": "1.6.1"
  }
 },
 "nbformat": 4,
 "nbformat_minor": 5
}
