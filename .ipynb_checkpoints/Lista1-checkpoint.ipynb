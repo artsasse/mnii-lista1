{
 "cells": [
  {
   "cell_type": "markdown",
   "id": "e80f1922-523d-46cb-a4ef-da35e37c8032",
   "metadata": {},
   "source": [
    "# Métodos Numéricos II - Lista 1 #\n",
    "## Arthur Mendonça Sasse - DRE 117206692 ##"
   ]
  },
  {
   "cell_type": "code",
   "execution_count": 58,
   "id": "73941e09-3fda-4ff0-9d15-1b06b9c59a51",
   "metadata": {},
   "outputs": [],
   "source": [
    "import Pkg; \n",
    "Pkg.add(\"Images\")\n",
    "\n",
    "using LinearAlgebra\n",
    "using Images"
   ]
  },
  {
   "cell_type": "markdown",
   "id": "8c0959a1-bf0d-473d-9bfa-a1e736ea3a80",
   "metadata": {},
   "source": [
    "## 1) ##"
   ]
  },
  {
   "cell_type": "markdown",
   "id": "5eccf43d-e0cc-4639-ae2d-2c11710c9978",
   "metadata": {},
   "source": [
    "#### (a) ####"
   ]
  },
  {
   "cell_type": "code",
   "execution_count": 7,
   "id": "a922df64-9a18-4805-acf6-d8fedb36e01d",
   "metadata": {},
   "outputs": [
    {
     "data": {
      "text/plain": [
       "4×5 Matrix{Int64}:\n",
       " 2  10  20   -2  0\n",
       " 3  15  30  -30  0\n",
       " 5  25  50   -5  0\n",
       " 7  35  70   -7  0"
      ]
     },
     "execution_count": 7,
     "metadata": {},
     "output_type": "execute_result"
    }
   ],
   "source": [
    "B = [2   0;\n",
    "     3 -27;\n",
    "     5   0;\n",
    "     7   0]\n",
    "\n",
    "C = [1 5 10 -1 0;\n",
    "     0 0  0  1 0]\n",
    "\n",
    "B * C"
   ]
  },
  {
   "cell_type": "markdown",
   "id": "92f3aca4-134d-4946-98ee-3e02e87cbb15",
   "metadata": {},
   "source": [
    "#### (b) ####"
   ]
  },
  {
   "cell_type": "code",
   "execution_count": 8,
   "id": "155c27f9-a29c-4e94-90b4-93bf7cebdb68",
   "metadata": {},
   "outputs": [
    {
     "data": {
      "text/plain": [
       "3×5 Matrix{Int64}:\n",
       " 1  3  5  5000  31\n",
       " 4  5  9  9000  54\n",
       " 3  5  8  8000  53"
      ]
     },
     "execution_count": 8,
     "metadata": {},
     "output_type": "execute_result"
    }
   ],
   "source": [
    "B = [1 3 1;\n",
    "     4 5 0;\n",
    "     3 5 0]\n",
    "\n",
    "C = [1 0 1 1000  1;\n",
    "     0 1 1 1000 10;\n",
    "     0 0 1 1000  0]\n",
    "\n",
    "B * C"
   ]
  },
  {
   "cell_type": "markdown",
   "id": "22386e3b-7766-4339-a214-8ae77b3ccecb",
   "metadata": {},
   "source": [
    "## 2) ##"
   ]
  },
  {
   "cell_type": "code",
   "execution_count": 9,
   "id": "baf7d756-5997-4d29-b1b6-6de63807ac2a",
   "metadata": {},
   "outputs": [
    {
     "data": {
      "text/plain": [
       "4×5 Matrix{Int64}:\n",
       "  2   10   20   200  -10\n",
       " -3  -15  -30  -300   15\n",
       "  5   25   50   500  -25\n",
       "  7   35   70   700  -35"
      ]
     },
     "execution_count": 9,
     "metadata": {},
     "output_type": "execute_result"
    }
   ],
   "source": [
    "User_x_Comedy = [ 2;\n",
    "               -3;\n",
    "                5;\n",
    "                7]\n",
    "\n",
    "Comedy_x_Movie = [1 5 10 100 -5]\n",
    "\n",
    "User_x_Comedy * Comedy_x_Movie"
   ]
  },
  {
   "cell_type": "markdown",
   "id": "dfb5b417-18f9-47f6-9d2c-ce91798c74f8",
   "metadata": {},
   "source": [
    "## 3) ##"
   ]
  },
  {
   "cell_type": "code",
   "execution_count": 11,
   "id": "138abd79-747f-4aff-931e-200c89a377c4",
   "metadata": {},
   "outputs": [
    {
     "data": {
      "text/plain": [
       "5×5 Matrix{Float64}:\n",
       " 0.82  0.18  0.5  0.1  0.26\n",
       " 0.74  0.26  0.5  0.2  0.32\n",
       " 0.34  0.66  0.5  0.7  0.62\n",
       " 0.58  0.42  0.5  0.4  0.44\n",
       " 0.1   0.9   0.5  1.0  0.8"
      ]
     },
     "execution_count": 11,
     "metadata": {},
     "output_type": "execute_result"
    }
   ],
   "source": [
    "# TODO: fazer com dataframes\n",
    "\n",
    "user_genre = [0.9 0.1;\n",
    "              0.8 0.2;\n",
    "              0.3 0.7;\n",
    "              0.6 0.4;\n",
    "                0   1]\n",
    "\n",
    "genre_movie = [0.9 0.1 0.5 0 0.2;\n",
    "               0.1 0.9 0.5 1 0.8]\n",
    "\n",
    "user_movie = user_genre * genre_movie"
   ]
  },
  {
   "cell_type": "code",
   "execution_count": 35,
   "id": "229653c9-fad5-470a-94b7-b187bd9ed022",
   "metadata": {},
   "outputs": [
    {
     "name": "stdout",
     "output_type": "stream",
     "text": [
      "Usuários mais próximos: [1, 2]\n",
      "Diferença euclidiana: 0.16248076809271922\n"
     ]
    }
   ],
   "source": [
    "# DUVIDA: Existe um jeito melhor de fazer isso?\n",
    "\n",
    "m = size(user_movie)[1]\n",
    "difference = Inf\n",
    "nearest_users = []\n",
    "\n",
    "for i = 1:m\n",
    "    user1 = user_movie[i,:]\n",
    "    for j = i+1:m\n",
    "        user2 = user_movie[j,:]\n",
    "        new_diff = norm(user1 - user2)\n",
    "        if new_diff < difference\n",
    "            difference = new_diff\n",
    "            nearest_users = [i, j]\n",
    "        end\n",
    "    end\n",
    "end\n",
    "\n",
    "println(\"Usuários mais próximos: $(nearest_users)\")\n",
    "println(\"Diferença euclidiana: $(difference)\")"
   ]
  },
  {
   "cell_type": "markdown",
   "id": "c0f92580-4c96-435c-9c7d-ad9c63a41c24",
   "metadata": {},
   "source": [
    "## 4) ##"
   ]
  },
  {
   "cell_type": "code",
   "execution_count": 39,
   "id": "9553929b-08f8-4e8d-9712-c93a1f1a0b25",
   "metadata": {},
   "outputs": [
    {
     "name": "stdout",
     "output_type": "stream",
     "text": [
      "Dimensão do espaço vetorial: 3\n"
     ]
    }
   ],
   "source": [
    "A = [1 1 11 101 11 2 13 2;\n",
    "     1 2 12 102 21 3 10 2;\n",
    "     1 3 13 103 31 4  7 2;\n",
    "     1 4 14 104 41 5  4 3] \n",
    "rank(A)\n",
    "println(\"Dimensão do espaço vetorial: $(rank(A))\")"
   ]
  },
  {
   "cell_type": "code",
   "execution_count": 43,
   "id": "c1d8dc35-5fa9-493c-b50b-54b84e4016cc",
   "metadata": {},
   "outputs": [
    {
     "data": {
      "text/plain": [
       "4×8 Matrix{Int64}:\n",
       " 1  1  11  101  11  2  13  2\n",
       " 1  2  12  102  21  3  10  2\n",
       " 1  3  13  103  31  4   7  2\n",
       " 1  4  14  104  41  5   4  3"
      ]
     },
     "execution_count": 43,
     "metadata": {},
     "output_type": "execute_result"
    }
   ],
   "source": [
    "B1 = [1 1  2\n",
    "      1 2  2\n",
    "      1 3  2\n",
    "      1 4  3]\n",
    "\n",
    "C = [1 0 10 100  1 1 16 0;\n",
    "     0 1  1   1 10 1 -3 0;\n",
    "     0 0  0   0  0 0  0 1]\n",
    "\n",
    "B1 * C"
   ]
  },
  {
   "cell_type": "code",
   "execution_count": 44,
   "id": "212e0776-e283-4e03-aa90-50d525cc7d02",
   "metadata": {},
   "outputs": [
    {
     "data": {
      "text/plain": [
       "4×8 Matrix{Float64}:\n",
       " 1.0  1.0  11.0  101.0  11.0  2.0  13.0  2.0\n",
       " 1.0  2.0  12.0  102.0  21.0  3.0  10.0  2.0\n",
       " 1.0  3.0  13.0  103.0  31.0  4.0   7.0  2.0\n",
       " 1.0  4.0  14.0  104.0  41.0  5.0   4.0  3.0"
      ]
     },
     "execution_count": 44,
     "metadata": {},
     "output_type": "execute_result"
    }
   ],
   "source": [
    "B2 = [2 1  2\n",
    "      2 2  2\n",
    "      2 3  2\n",
    "      2 4  3]\n",
    "\n",
    "C = [0.5 0 5 50 0.5 0.5  8 0;\n",
    "       0 1 1  1  10   1 -3 0;\n",
    "       0 0 0  0   0   0  0 1]\n",
    "\n",
    "B2 * C"
   ]
  },
  {
   "cell_type": "markdown",
   "id": "df507773-e287-4ce5-b39e-c74172b67ea0",
   "metadata": {},
   "source": [
    "## 5) ##"
   ]
  },
  {
   "cell_type": "markdown",
   "id": "ad0e5985-e107-465d-946c-bcf86564e851",
   "metadata": {},
   "source": [
    "<center>\n",
    "    <figure>\n",
    "    <img src=\"Q5.jpeg\" width=500 align=center>\n",
    "    </figure>\n",
    "</center>"
   ]
  },
  {
   "cell_type": "markdown",
   "id": "a72b254d-b196-4eb7-b1c4-ccf90878185e",
   "metadata": {},
   "source": [
    "Consideramos que posto é o menor número de colunas de B ou linhas de C para reconstruir A por B * C.\n",
    "\n",
    "Quando transpomos A, podemos fazer o mesmo com B e C, resultando em Aᵀ = Cᵀ * Bᵀ.\n",
    "\n",
    "Nesse caso Cᵀ é uma matriz n x k e Bᵀ uma matriz k x m. O formato da matriz resultante mudou para n x m, o que condiz com a transposição. Mas o numero de colunas da primeira matriz ou linhas da segunda continua sendo o mesmo: k.\n",
    "\n",
    "Logo, k é o posto de A e Aᵀ.\n",
    "\n",
    "Dúvida: e se as colunas de B fossem LI, mas as linhas de C não? Isso seria possível? Por que não?"
   ]
  },
  {
   "cell_type": "markdown",
   "id": "4f2a5ef8-f618-4aa6-b379-a9494701b280",
   "metadata": {},
   "source": [
    "## 6) ##"
   ]
  },
  {
   "cell_type": "code",
   "execution_count": 52,
   "id": "78a6f08b-3a61-4fbe-aa67-b86f4c2767b1",
   "metadata": {},
   "outputs": [
    {
     "data": {
      "text/plain": [
       "2×6 Matrix{Int64}:\n",
       " 1  3  0  2   0  -4\n",
       " 0  1  1  3  -3   0"
      ]
     },
     "execution_count": 52,
     "metadata": {},
     "output_type": "execute_result"
    }
   ],
   "source": [
    "a1 = [1, 0]\n",
    "a2 = [3, 1]\n",
    "a3 = [0, 1]\n",
    "a4 = [2, 3]\n",
    "a5 = [0, -3]\n",
    "a6 = [-4, 0]\n",
    "\n",
    "A = [a1 a2 a3 a4 a5 a6]"
   ]
  },
  {
   "cell_type": "code",
   "execution_count": 53,
   "id": "8544c90b-410e-457d-9960-249968430c47",
   "metadata": {},
   "outputs": [
    {
     "data": {
      "text/plain": [
       "2×2 Matrix{Int64}:\n",
       " 3  2\n",
       " 1  3"
      ]
     },
     "execution_count": 53,
     "metadata": {},
     "output_type": "execute_result"
    }
   ],
   "source": [
    "B = [b1 b2]"
   ]
  },
  {
   "cell_type": "code",
   "execution_count": 56,
   "id": "745bac86-04f0-4798-9d02-ecba8716acb1",
   "metadata": {},
   "outputs": [
    {
     "data": {
      "text/plain": [
       "2×6 Matrix{Float64}:\n",
       "  0.428571  1.0  -0.285714  0.0   0.857143  -1.71429\n",
       " -0.142857  0.0   0.428571  1.0  -1.28571    0.571429"
      ]
     },
     "execution_count": 56,
     "metadata": {},
     "output_type": "execute_result"
    }
   ],
   "source": [
    "C = B \\ A"
   ]
  },
  {
   "cell_type": "markdown",
   "id": "7ed29715-9ed0-4511-84f7-88f6c21f15a9",
   "metadata": {},
   "source": [
    "## 7) ##\n",
    "\n",
    "#### (a) ####\n",
    "Significa que eles não possuem sintomas em comum."
   ]
  },
  {
   "cell_type": "markdown",
   "id": "2787a97b-d588-4967-8e1b-d9643a1f303d",
   "metadata": {},
   "source": [
    "#### (b) ####\n",
    "Significa que esses sintomas não aparecem juntos num mesmo paciente."
   ]
  },
  {
   "cell_type": "markdown",
   "id": "13fb4763-2cb6-4c97-8f0d-cf2eba1200f1",
   "metadata": {},
   "source": [
    "#### (c) ####\n",
    "Significa que eles possuem os mesmos sintomas."
   ]
  },
  {
   "cell_type": "markdown",
   "id": "68c9cf7d-c2c2-4f68-ba47-c662279a7ec0",
   "metadata": {},
   "source": [
    "#### (d) ####\n",
    "Significa que eles afetam as mesmas pessoas."
   ]
  },
  {
   "cell_type": "markdown",
   "id": "688e91e9-8884-495f-87f6-9c157f61149c",
   "metadata": {},
   "source": [
    "## 8) ##\n",
    "\n",
    "#### (a) ####\n",
    "\n",
    "Considerando 1 como branco e 0 como preto."
   ]
  },
  {
   "cell_type": "code",
   "execution_count": 64,
   "id": "09c44c32-7cca-4f25-94df-fcc37302ef24",
   "metadata": {},
   "outputs": [
    {
     "data": {
      "text/plain": [
       "5×5 Matrix{Float64}:\n",
       " 1.0  0.0  1.0  0.0  1.0\n",
       " 1.0  0.0  1.0  0.0  1.0\n",
       " 1.0  1.0  0.5  1.0  1.0\n",
       " 0.0  1.0  1.0  1.0  0.0\n",
       " 1.0  0.0  0.0  0.0  1.0"
      ]
     },
     "execution_count": 64,
     "metadata": {},
     "output_type": "execute_result"
    }
   ],
   "source": [
    "S = [1 0   1 0 1;\n",
    "           1 0   1 0 1;\n",
    "           1 1 0.5 1 1;\n",
    "           0 1   1 1 0;\n",
    "           1 0   0 0 1]"
   ]
  },
  {
   "cell_type": "code",
   "execution_count": 65,
   "id": "3de0e0f2-871e-486d-ae51-acc9e6ae895f",
   "metadata": {},
   "outputs": [
    {
     "data": {
      "image/png": "[encoded data removed]",
      "text/plain": [
       "5×5 Array{Gray{Float64},2} with eltype Gray{Float64}:\n",
       " Gray{Float64}(1.0)  Gray{Float64}(0.0)  …  Gray{Float64}(1.0)\n",
       " Gray{Float64}(1.0)  Gray{Float64}(0.0)     Gray{Float64}(1.0)\n",
       " Gray{Float64}(1.0)  Gray{Float64}(1.0)     Gray{Float64}(1.0)\n",
       " Gray{Float64}(0.0)  Gray{Float64}(1.0)     Gray{Float64}(0.0)\n",
       " Gray{Float64}(1.0)  Gray{Float64}(0.0)     Gray{Float64}(1.0)"
      ]
     },
     "metadata": {},
     "output_type": "display_data"
    }
   ],
   "source": [
    "display(Gray.(S))"
   ]
  },
  {
   "cell_type": "markdown",
   "id": "15cf6690-c2be-4840-8139-fb34ca18a09e",
   "metadata": {},
   "source": [
    "#### (b) ####\n",
    "\n",
    "BA = S\n",
    "\n",
    "(BA)ᵀ = Sᵀ\n",
    "\n",
    "AᵀBᵀ = Sᵀ\n",
    "\n",
    "Bᵀ = (Aᵀ)⁻¹Sᵀ"
   ]
  },
  {
   "cell_type": "code",
   "execution_count": 81,
   "id": "539b3929-678c-4ff3-b2bd-ac2a355dea5d",
   "metadata": {},
   "outputs": [
    {
     "data": {
      "image/png": "[encoded data removed]",
      "text/plain": [
       "3×5 Array{Gray{N0f8},2} with eltype Gray{N0f8}:\n",
       " Gray{N0f8}(1.0)  Gray{N0f8}(0.0)  …  Gray{N0f8}(0.0)  Gray{N0f8}(1.0)\n",
       " Gray{N0f8}(0.0)  Gray{N0f8}(1.0)     Gray{N0f8}(1.0)  Gray{N0f8}(0.0)\n",
       " Gray{N0f8}(0.0)  Gray{N0f8}(0.0)     Gray{N0f8}(0.0)  Gray{N0f8}(0.0)"
      ]
     },
     "metadata": {},
     "output_type": "display_data"
    }
   ],
   "source": [
    "A = [1 0 0 0 1;\n",
    "     0 1 0 1 0;\n",
    "     0 0 1 0 0]\n",
    "display(Gray.(A))"
   ]
  },
  {
   "cell_type": "code",
   "execution_count": 82,
   "id": "f1bfe7e0-fd31-46d0-9d80-7359e7508547",
   "metadata": {},
   "outputs": [
    {
     "data": {
      "image/png": "[encoded data removed]",
      "text/plain": [
       "5×3 Array{Gray{N0f8},2} with eltype Gray{N0f8}:\n",
       " Gray{N0f8}(1.0)  Gray{N0f8}(0.0)  Gray{N0f8}(0.0)\n",
       " Gray{N0f8}(0.0)  Gray{N0f8}(1.0)  Gray{N0f8}(0.0)\n",
       " Gray{N0f8}(0.0)  Gray{N0f8}(0.0)  Gray{N0f8}(1.0)\n",
       " Gray{N0f8}(0.0)  Gray{N0f8}(1.0)  Gray{N0f8}(0.0)\n",
       " Gray{N0f8}(1.0)  Gray{N0f8}(0.0)  Gray{N0f8}(0.0)"
      ]
     },
     "metadata": {},
     "output_type": "display_data"
    }
   ],
   "source": [
    "display(Gray.(A'))"
   ]
  },
  {
   "cell_type": "code",
   "execution_count": 83,
   "id": "dfc21f7d-f9d3-4cf3-8b5b-02b1169cc27e",
   "metadata": {},
   "outputs": [
    {
     "data": {
      "image/png": "[encoded data removed]",
      "text/plain": [
       "5×5 Array{Gray{Float64},2} with eltype Gray{Float64}:\n",
       " Gray{Float64}(1.0)  Gray{Float64}(1.0)  …  Gray{Float64}(1.0)\n",
       " Gray{Float64}(0.0)  Gray{Float64}(0.0)     Gray{Float64}(0.0)\n",
       " Gray{Float64}(1.0)  Gray{Float64}(1.0)     Gray{Float64}(0.0)\n",
       " Gray{Float64}(0.0)  Gray{Float64}(0.0)     Gray{Float64}(0.0)\n",
       " Gray{Float64}(1.0)  Gray{Float64}(1.0)     Gray{Float64}(1.0)"
      ]
     },
     "metadata": {},
     "output_type": "display_data"
    }
   ],
   "source": [
    "display(Gray.(S'))"
   ]
  },
  {
   "cell_type": "code",
   "execution_count": 84,
   "id": "32c387a4-b347-4c4c-8741-8521c200f53b",
   "metadata": {},
   "outputs": [
    {
     "data": {
      "image/png": "[encoded data removed]",
      "text/plain": [
       "3×5 Array{Gray{Float64},2} with eltype Gray{Float64}:\n",
       " Gray{Float64}(1.0)   Gray{Float64}(1.0)   …  Gray{Float64}(1.0)\n",
       " Gray{Float64}(-0.0)  Gray{Float64}(-0.0)     Gray{Float64}(-0.0)\n",
       " Gray{Float64}(1.0)   Gray{Float64}(1.0)      Gray{Float64}(0.0)"
      ]
     },
     "metadata": {},
     "output_type": "display_data"
    }
   ],
   "source": [
    "Bt = A' \\ S'\n",
    "display(Gray.(Bt))"
   ]
  },
  {
   "cell_type": "code",
   "execution_count": 86,
   "id": "da4f9b4a-cc5b-4b4c-a7ea-7e7f11a47a6b",
   "metadata": {},
   "outputs": [
    {
     "data": {
      "image/png": "[encoded data removed]",
      "text/plain": [
       "5×3 Array{Gray{Float64},2} with eltype Gray{Float64}:\n",
       " Gray{Float64}(1.0)   Gray{Float64}(-0.0)  Gray{Float64}(1.0)\n",
       " Gray{Float64}(1.0)   Gray{Float64}(-0.0)  Gray{Float64}(1.0)\n",
       " Gray{Float64}(1.0)   Gray{Float64}(1.0)   Gray{Float64}(0.5)\n",
       " Gray{Float64}(-0.0)  Gray{Float64}(1.0)   Gray{Float64}(1.0)\n",
       " Gray{Float64}(1.0)   Gray{Float64}(-0.0)  Gray{Float64}(0.0)"
      ]
     },
     "metadata": {},
     "output_type": "display_data"
    }
   ],
   "source": [
    "B = Bt'\n",
    "display(Gray.(B))"
   ]
  },
  {
   "cell_type": "code",
   "execution_count": 89,
   "id": "d7487632-298b-4300-8f9a-d890908f3619",
   "metadata": {},
   "outputs": [
    {
     "data": {
      "image/png": "[encoded data removed]",
      "text/plain": [
       "5×5 Array{Gray{Float64},2} with eltype Gray{Float64}:\n",
       " Gray{Float64}(1.0)  Gray{Float64}(0.0)  …  Gray{Float64}(1.0)\n",
       " Gray{Float64}(1.0)  Gray{Float64}(0.0)     Gray{Float64}(1.0)\n",
       " Gray{Float64}(1.0)  Gray{Float64}(1.0)     Gray{Float64}(1.0)\n",
       " Gray{Float64}(0.0)  Gray{Float64}(1.0)     Gray{Float64}(0.0)\n",
       " Gray{Float64}(1.0)  Gray{Float64}(0.0)     Gray{Float64}(1.0)"
      ]
     },
     "metadata": {},
     "output_type": "display_data"
    }
   ],
   "source": [
    "Af = B * A\n",
    "display(Gray.(Af))"
   ]
  },
  {
   "cell_type": "markdown",
   "id": "3e6fcd63-ab7e-4d29-acea-4493a85dd5da",
   "metadata": {},
   "source": [
    "## 9) ##"
   ]
  },
  {
   "cell_type": "code",
   "execution_count": 95,
   "id": "3ec505bf-5995-4200-b639-bf76a9272b25",
   "metadata": {},
   "outputs": [
    {
     "data": {
      "image/svg+xml": [
       "<?xml version=\"1.0\" encoding=\"UTF-8\"?>\n",
       "<!DOCTYPE svg PUBLIC \"-//W3C//DTD SVG 1.1//EN\"\n",
       " \"http://www.w3.org/Graphics/SVG/1.1/DTD/svg11.dtd\">\n",
       "<svg xmlns=\"http://www.w3.org/2000/svg\" version=\"1.1\"\n",
       "     width=\"25mm\" height=\"25mm\" viewBox=\"0 0 1 1\">\n",
       "    <rect width=\"1\" height=\"1\" fill=\"#15678F\" stroke=\"none\"/>\n",
       "</svg>\n"
      ],
      "text/plain": [
       "RGB{Float64}(0.08235294117647059,0.403921568627451,0.5607843137254902)"
      ]
     },
     "execution_count": 95,
     "metadata": {},
     "output_type": "execute_result"
    }
   ],
   "source": [
    "B = RGB(21/255, 103/255, 143/255)"
   ]
  },
  {
   "cell_type": "code",
   "execution_count": 96,
   "id": "a760814a-7750-47e5-8a25-a79b9b67f541",
   "metadata": {},
   "outputs": [
    {
     "data": {
      "image/svg+xml": [
       "<?xml version=\"1.0\" encoding=\"UTF-8\"?>\n",
       "<!DOCTYPE svg PUBLIC \"-//W3C//DTD SVG 1.1//EN\"\n",
       " \"http://www.w3.org/Graphics/SVG/1.1/DTD/svg11.dtd\">\n",
       "<svg xmlns=\"http://www.w3.org/2000/svg\" version=\"1.1\"\n",
       "     width=\"25mm\" height=\"25mm\" viewBox=\"0 0 1 1\">\n",
       "    <rect width=\"1\" height=\"1\" fill=\"#FFFFFF\" stroke=\"none\"/>\n",
       "</svg>\n"
      ],
      "text/plain": [
       "RGB{N0f8}(1.0,1.0,1.0)"
      ]
     },
     "execution_count": 96,
     "metadata": {},
     "output_type": "execute_result"
    }
   ],
   "source": [
    "W = RGB(1, 1, 1)"
   ]
  },
  {
   "cell_type": "code",
   "execution_count": 103,
   "id": "a57024a3-c8f2-4b9b-b18d-55a17403ece7",
   "metadata": {},
   "outputs": [
    {
     "data": {
      "image/png": "[encoded data removed]",
      "text/plain": [
       "9×15 Array{RGB{Float64},2} with eltype RGB{Float64}:\n",
       " RGB{Float64}(0.0823529,0.403922,0.560784)  …  RGB{Float64}(0.0823529,0.403922,0.560784)\n",
       " RGB{Float64}(0.0823529,0.403922,0.560784)     RGB{Float64}(1.0,1.0,1.0)\n",
       " RGB{Float64}(1.0,1.0,1.0)                     RGB{Float64}(0.0823529,0.403922,0.560784)\n",
       " RGB{Float64}(0.0823529,0.403922,0.560784)     RGB{Float64}(1.0,1.0,1.0)\n",
       " RGB{Float64}(0.0823529,0.403922,0.560784)     RGB{Float64}(0.0823529,0.403922,0.560784)\n",
       " RGB{Float64}(1.0,1.0,1.0)                  …  RGB{Float64}(1.0,1.0,1.0)\n",
       " RGB{Float64}(0.0823529,0.403922,0.560784)     RGB{Float64}(0.0823529,0.403922,0.560784)\n",
       " RGB{Float64}(1.0,1.0,1.0)                     RGB{Float64}(1.0,1.0,1.0)\n",
       " RGB{Float64}(0.0823529,0.403922,0.560784)     RGB{Float64}(0.0823529,0.403922,0.560784)"
      ]
     },
     "execution_count": 103,
     "metadata": {},
     "output_type": "execute_result"
    }
   ],
   "source": [
    "flag = [B B W B B B B B B B B B B B B;\n",
    "        B B W B B W W W W W W W W W W;\n",
    "        W W W W W B B B B B B B B B B;\n",
    "        B B W B B W W W W W W W W W W;\n",
    "        B B W B B B B B B B B B B B B;\n",
    "        W W W W W W W W W W W W W W W;\n",
    "        B B B B B B B B B B B B B B B;\n",
    "        W W W W W W W W W W W W W W W;\n",
    "        B B B B B B B B B B B B B B B]"
   ]
  },
  {
   "cell_type": "code",
   "execution_count": 106,
   "id": "84e9d79d-344d-48c1-be49-c7f7e2ae5b99",
   "metadata": {},
   "outputs": [
    {
     "data": {
      "text/plain": [
       "9×15 Matrix{Float64}:\n",
       " 0.0823529  0.0823529  1.0        …  0.0823529  0.0823529  0.0823529\n",
       " 0.0823529  0.0823529  1.0           1.0        1.0        1.0\n",
       " 1.0        1.0        1.0           0.0823529  0.0823529  0.0823529\n",
       " 0.0823529  0.0823529  1.0           1.0        1.0        1.0\n",
       " 0.0823529  0.0823529  1.0           0.0823529  0.0823529  0.0823529\n",
       " 1.0        1.0        1.0        …  1.0        1.0        1.0\n",
       " 0.0823529  0.0823529  0.0823529     0.0823529  0.0823529  0.0823529\n",
       " 1.0        1.0        1.0           1.0        1.0        1.0\n",
       " 0.0823529  0.0823529  0.0823529     0.0823529  0.0823529  0.0823529"
      ]
     },
     "execution_count": 106,
     "metadata": {},
     "output_type": "execute_result"
    }
   ],
   "source": [
    "r = red.(flag)"
   ]
  },
  {
   "cell_type": "code",
   "execution_count": 110,
   "id": "8a745eb2-181d-4c2b-a652-a7f5be52366c",
   "metadata": {},
   "outputs": [
    {
     "data": {
      "text/plain": [
       "9×15 Matrix{Float64}:\n",
       " 0.403922  0.403922  1.0       0.403922  …  0.403922  0.403922  0.403922\n",
       " 0.403922  0.403922  1.0       0.403922     1.0       1.0       1.0\n",
       " 1.0       1.0       1.0       1.0          0.403922  0.403922  0.403922\n",
       " 0.403922  0.403922  1.0       0.403922     1.0       1.0       1.0\n",
       " 0.403922  0.403922  1.0       0.403922     0.403922  0.403922  0.403922\n",
       " 1.0       1.0       1.0       1.0       …  1.0       1.0       1.0\n",
       " 0.403922  0.403922  0.403922  0.403922     0.403922  0.403922  0.403922\n",
       " 1.0       1.0       1.0       1.0          1.0       1.0       1.0\n",
       " 0.403922  0.403922  0.403922  0.403922     0.403922  0.403922  0.403922"
      ]
     },
     "execution_count": 110,
     "metadata": {},
     "output_type": "execute_result"
    }
   ],
   "source": [
    "g = green.(flag)"
   ]
  },
  {
   "cell_type": "code",
   "execution_count": 109,
   "id": "ed3803d3-df6c-4b1a-8fb6-47c53720d7d1",
   "metadata": {},
   "outputs": [
    {
     "data": {
      "text/plain": [
       "9×15 Matrix{Float64}:\n",
       " 0.560784  0.560784  1.0       0.560784  …  0.560784  0.560784  0.560784\n",
       " 0.560784  0.560784  1.0       0.560784     1.0       1.0       1.0\n",
       " 1.0       1.0       1.0       1.0          0.560784  0.560784  0.560784\n",
       " 0.560784  0.560784  1.0       0.560784     1.0       1.0       1.0\n",
       " 0.560784  0.560784  1.0       0.560784     0.560784  0.560784  0.560784\n",
       " 1.0       1.0       1.0       1.0       …  1.0       1.0       1.0\n",
       " 0.560784  0.560784  0.560784  0.560784     0.560784  0.560784  0.560784\n",
       " 1.0       1.0       1.0       1.0          1.0       1.0       1.0\n",
       " 0.560784  0.560784  0.560784  0.560784     0.560784  0.560784  0.560784"
      ]
     },
     "execution_count": 109,
     "metadata": {},
     "output_type": "execute_result"
    }
   ],
   "source": [
    "b = blue.(flag)"
   ]
  },
  {
   "cell_type": "markdown",
   "id": "c797d3e2-8df2-4ed1-a89d-32d92f63f999",
   "metadata": {},
   "source": [
    "## 10) ##\n",
    "#### (a) ####"
   ]
  },
  {
   "cell_type": "markdown",
   "id": "c36b2f57-3da2-4dad-beed-70e16f0431ea",
   "metadata": {},
   "source": [
    "<center>\n",
    "    <figure>\n",
    "    <img src=\"Q10a.jpeg\" width=500 align=center>\n",
    "    </figure>\n",
    "</center>"
   ]
  },
  {
   "cell_type": "code",
   "execution_count": 116,
   "id": "b05251ca-3313-4392-ad60-64a536fcb2b6",
   "metadata": {},
   "outputs": [
    {
     "data": {
      "text/plain": [
       "2×2 Matrix{Float64}:\n",
       "  0.707107  0.707107\n",
       " -0.707107  0.707107"
      ]
     },
     "execution_count": 116,
     "metadata": {},
     "output_type": "execute_result"
    }
   ],
   "source": [
    "Vt = [cos(-π/4) -sin(-π/4);\n",
    "      sin(-π/4) cos(-π/4)]"
   ]
  },
  {
   "cell_type": "code",
   "execution_count": 117,
   "id": "12f3c8d8-3bea-4255-a7a7-fb5071e1510f",
   "metadata": {},
   "outputs": [
    {
     "data": {
      "text/plain": [
       "2×2 Matrix{Float64}:\n",
       " 1.0  0.0\n",
       " 0.0  0.0"
      ]
     },
     "execution_count": 117,
     "metadata": {},
     "output_type": "execute_result"
    }
   ],
   "source": [
    "Σ = [1 0.;\n",
    "     0 0.]"
   ]
  },
  {
   "cell_type": "code",
   "execution_count": 118,
   "id": "0a739d69-1115-4ace-b824-ea2310c4489c",
   "metadata": {},
   "outputs": [
    {
     "data": {
      "text/plain": [
       "2×2 adjoint(::Matrix{Float64}) with eltype Float64:\n",
       " 0.707107  -0.707107\n",
       " 0.707107   0.707107"
      ]
     },
     "execution_count": 118,
     "metadata": {},
     "output_type": "execute_result"
    }
   ],
   "source": [
    "U = Vt'"
   ]
  },
  {
   "cell_type": "code",
   "execution_count": 120,
   "id": "0ac015bd-3ace-4f3c-985e-eea873f3f5a8",
   "metadata": {},
   "outputs": [
    {
     "data": {
      "text/plain": [
       "2×2 Matrix{Float64}:\n",
       " 0.5  0.5\n",
       " 0.5  0.5"
      ]
     },
     "execution_count": 120,
     "metadata": {},
     "output_type": "execute_result"
    }
   ],
   "source": [
    "M = U*Σ*Vt"
   ]
  },
  {
   "cell_type": "markdown",
   "id": "1b5d5f06-8764-4322-aa6b-f7ea029ff212",
   "metadata": {},
   "source": [
    "#### (b) ####"
   ]
  },
  {
   "cell_type": "markdown",
   "id": "65cb4951-5d97-427f-9c46-4dd58662f618",
   "metadata": {},
   "source": [
    "## 11) ##\n",
    "#### (a) ####\n",
    "<center>\n",
    "    <figure>\n",
    "    <img src=\"Q11a.jpeg\" width=500 align=center>\n",
    "    </figure>\n",
    "</center>\n",
    "\n",
    "Obs: E no caso em que X for zero, X⁺ = 0."
   ]
  },
  {
   "cell_type": "markdown",
   "id": "2f0bbd12-1385-43c5-a68d-910edffc4999",
   "metadata": {},
   "source": [
    "#### (b) ####\n",
    "\n",
    "Não sei."
   ]
  },
  {
   "cell_type": "markdown",
   "id": "32cc995c-3524-4b8d-bd39-780c450440f7",
   "metadata": {},
   "source": [
    "#### (c) ####\n",
    "\n",
    "Podemos interpretar que a matriz está projetando todos os pontos na reta y = x e dobrando o seu módulo.\n",
    "Logo, podemos interpretar que a matriz faz uma rotação em sentido horário de 45°, projeta os pontos no eixo x e estica em 2 vezes e, por fim, faz uma rotação de 45° em sentido anti-horário."
   ]
  },
  {
   "cell_type": "code",
   "execution_count": 161,
   "id": "e5efbaa6-f98e-485f-9b82-f69929bd108a",
   "metadata": {},
   "outputs": [
    {
     "data": {
      "text/plain": [
       "2×2 Matrix{Float64}:\n",
       "  0.707107  0.707107\n",
       " -0.707107  0.707107"
      ]
     },
     "execution_count": 161,
     "metadata": {},
     "output_type": "execute_result"
    }
   ],
   "source": [
    "Vt = [cos(-π/4) -sin(-π/4);\n",
    "      sin(-π/4) cos(-π/4)]"
   ]
  },
  {
   "cell_type": "code",
   "execution_count": 162,
   "id": "515588a0-b9f4-423e-8855-ec655437f12d",
   "metadata": {},
   "outputs": [
    {
     "data": {
      "text/plain": [
       "2×2 Matrix{Float64}:\n",
       " 2.0  0.0\n",
       " 0.0  0.0"
      ]
     },
     "execution_count": 162,
     "metadata": {},
     "output_type": "execute_result"
    }
   ],
   "source": [
    "Σ = [2 0.;\n",
    "     0 0.]"
   ]
  },
  {
   "cell_type": "code",
   "execution_count": 163,
   "id": "5c74237b-6526-40a5-83d1-161410a4615b",
   "metadata": {},
   "outputs": [
    {
     "data": {
      "text/plain": [
       "2×2 adjoint(::Matrix{Float64}) with eltype Float64:\n",
       " 0.707107  -0.707107\n",
       " 0.707107   0.707107"
      ]
     },
     "execution_count": 163,
     "metadata": {},
     "output_type": "execute_result"
    }
   ],
   "source": [
    "U = Vt'"
   ]
  },
  {
   "cell_type": "code",
   "execution_count": 164,
   "id": "484fbb25-982a-4d29-9e40-05a218ddc499",
   "metadata": {},
   "outputs": [
    {
     "data": {
      "text/plain": [
       "2×2 Matrix{Float64}:\n",
       " 1.0  1.0\n",
       " 1.0  1.0"
      ]
     },
     "execution_count": 164,
     "metadata": {},
     "output_type": "execute_result"
    }
   ],
   "source": [
    "A = U*Σ*Vt"
   ]
  },
  {
   "cell_type": "markdown",
   "id": "eb447dde-64c6-4911-8150-538f7dedebb2",
   "metadata": {},
   "source": [
    "Logo a pseudoinversa da matriz será V * Σ⁺ * Uᵀ."
   ]
  },
  {
   "cell_type": "code",
   "execution_count": 165,
   "id": "de83d120-9453-4fe7-a911-3ca49f283390",
   "metadata": {},
   "outputs": [
    {
     "data": {
      "text/plain": [
       "2×2 Matrix{Float64}:\n",
       " 0.25  0.25\n",
       " 0.25  0.25"
      ]
     },
     "execution_count": 165,
     "metadata": {},
     "output_type": "execute_result"
    }
   ],
   "source": [
    "Σ⁺ = [1/2 0\n",
    "        0 0]\n",
    "\n",
    "A⁺ = Vt' * Σ⁺ * U'"
   ]
  },
  {
   "cell_type": "markdown",
   "id": "a5a4c05c-ad79-41c7-b4bb-f18a505c7fe4",
   "metadata": {},
   "source": [
    "## 12) ##"
   ]
  },
  {
   "cell_type": "code",
   "execution_count": 166,
   "id": "f3039e18-ba3b-48d4-92ec-518a8d9e7ba6",
   "metadata": {},
   "outputs": [
    {
     "data": {
      "text/plain": [
       "2-element Vector{Float64}:\n",
       " 1.0\n",
       " 0.9999999999999999"
      ]
     },
     "execution_count": 166,
     "metadata": {},
     "output_type": "execute_result"
    }
   ],
   "source": [
    "x = A⁺ * [2, 2] "
   ]
  },
  {
   "cell_type": "markdown",
   "id": "f551d0e3-1c05-450c-b581-d7841208f2fa",
   "metadata": {},
   "source": [
    "Sabemos que a matriz A projeta os pontos na reta y = x e multiplica o vetor resultante por 2.\n",
    "\n",
    "Nesse caso, todos os vetores X que têm uma projeção ou \"sombra\" igual ao vetor \\[1, 1\\] na reta y = x, vão se transformar no vetor \\[2, 2\\] no final.\n",
    "\n",
    "Ou seja, vamos ter infinitos vetores com projeção em \\[1, 1\\], cada um a uma distância específica da reta. Mas de todos esses, o vetor que terá a menor distância até a sua \"sombra\" é aquele que coincide com a sua sombra, ou seja, o próprio vetor \\[1, 1\\] que já está inscrito na reta y = x.\n",
    "\n",
    "Isso é importante porque a norma do vetor X é sempre √(p² + d²). p é constante já que é a norma da projeção, logo o menor valor possível é quando d é zero, que é justamente o caso descrito acima.\n",
    "\n",
    "Ou seja, em uma transformação em que ocorre perda de dimensões e temos múltiplas soluções, a solução de menor norma é justamente aquela que já está contida no espaço vetorial da matriz de transformação. "
   ]
  },
  {
   "cell_type": "markdown",
   "id": "6f0b5a48-be61-427d-adae-b3b08959be33",
   "metadata": {},
   "source": [
    "## 13) ##"
   ]
  },
  {
   "cell_type": "markdown",
   "id": "43b9e297-b083-4b9b-9050-8705074e9c92",
   "metadata": {},
   "source": [
    "#### (a) ####\n",
    "\n",
    "d = a3ᵀq3\n",
    "\n",
    "d = 9"
   ]
  },
  {
   "cell_type": "markdown",
   "id": "b2be1456-6f4d-4db7-b5a5-d45d27873b92",
   "metadata": {},
   "source": [
    "#### (b) ####"
   ]
  },
  {
   "cell_type": "markdown",
   "id": "8ed4fd4a-6a9e-4169-bab8-680839dd4ece",
   "metadata": {},
   "source": [
    "a1 = 3 * q1\n",
    "\n",
    "q1 é unitário.\n",
    "\n",
    "Logo o tamanho de a1 é 3 unidades."
   ]
  },
  {
   "cell_type": "markdown",
   "id": "d476509f-810d-4c0b-8268-15e85ef3a178",
   "metadata": {},
   "source": [
    "#### (c) ####"
   ]
  },
  {
   "cell_type": "markdown",
   "id": "62a7d59e-56e9-4ac8-888b-0bbd4bda2e48",
   "metadata": {},
   "source": [
    "p = √[(a3ᵀq1)² + (a3ᵀq2)²]\n",
    "\n",
    "p = √(5² + 6²)\n",
    "\n",
    "p = √(25 + 36)\n",
    "\n",
    "p = √61"
   ]
  },
  {
   "cell_type": "markdown",
   "id": "d426c541-b574-439c-81d1-9b7efa8fcc4d",
   "metadata": {},
   "source": [
    "#### (d) ####"
   ]
  },
  {
   "cell_type": "markdown",
   "id": "a5f89f38-e60a-4312-90f5-50acb8ebf878",
   "metadata": {},
   "source": [
    "det = a1ᵀq1 * a2ᵀq2 * a3ᵀq3\n",
    "\n",
    "det = 3 * 7 * 9\n",
    "\n",
    "det = 189"
   ]
  },
  {
   "cell_type": "markdown",
   "id": "08f4331d-a063-4d2a-9fd0-e12650344fc5",
   "metadata": {},
   "source": [
    "#### (e) ####"
   ]
  },
  {
   "cell_type": "markdown",
   "id": "c28bbf0f-8626-4707-a72f-9d970975301a",
   "metadata": {},
   "source": [
    "a2ᵀq1 = 4"
   ]
  },
  {
   "cell_type": "markdown",
   "id": "b331be7b-86c1-4348-9632-8bb1b4be794a",
   "metadata": {},
   "source": [
    "#### (f) ####"
   ]
  },
  {
   "cell_type": "markdown",
   "id": "614056c4-8325-4bc3-aacc-d4a4438a5417",
   "metadata": {},
   "source": [
    "p = √[(a3ᵀq1)² + (a3ᵀq2)² + (a3ᵀq3)²]\n",
    "\n",
    "p = √(5² + 6² + 9²)\n",
    "\n",
    "p = √(25 + 36 + 81)\n",
    "\n",
    "p = √142"
   ]
  },
  {
   "cell_type": "markdown",
   "id": "5ab4db2d-2f9f-4091-9967-f188e26b901b",
   "metadata": {},
   "source": [
    "#### (g) ####"
   ]
  },
  {
   "cell_type": "markdown",
   "id": "ebc28cc0-a16e-4211-9ff4-ea0a10060302",
   "metadata": {},
   "source": [
    "Q⁻¹ = Qᵀ"
   ]
  },
  {
   "cell_type": "markdown",
   "id": "d45215cd-b8e2-4e3c-9bf4-f402333cd71c",
   "metadata": {},
   "source": [
    "#### (h) ####"
   ]
  },
  {
   "cell_type": "markdown",
   "id": "3586a305-68ab-41b1-9b4a-4f8967544978",
   "metadata": {},
   "source": [
    "<center>\n",
    "    <figure>\n",
    "    <img src=\"Q13h.jpeg\" width=500 align=center>\n",
    "    </figure>\n",
    "</center>"
   ]
  }
 ],
 "metadata": {
  "kernelspec": {
   "display_name": "Julia 1.6.0",
   "language": "julia",
   "name": "julia-1.6"
  },
  "language_info": {
   "file_extension": ".jl",
   "mimetype": "application/julia",
   "name": "julia",
   "version": "1.6.1"
  }
 },
 "nbformat": 4,
 "nbformat_minor": 5
}
